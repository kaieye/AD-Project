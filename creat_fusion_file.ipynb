{
 "cells": [
  {
   "cell_type": "code",
   "execution_count": 2,
   "id": "a1a62794-3f6e-4579-a76d-cce37547b91c",
   "metadata": {},
   "outputs": [],
   "source": [
    "import pandas as pd\n",
    "for i in range(5):\n",
    "    for j in ['train','valid','test']:\n",
    "        data = pd.read_csv('tb_log/CNN_baseline_new_cross{}/{}_eval.csv'.format(i,j))\n",
    "        new = pd.read_csv('lookupcsv/CrossValid/cross{}/{}.csv'.format(i,j))\n",
    "        new['COG_score']=data['COG_score']\n",
    "        if 'ADD_score' in data.columns:\n",
    "            new['ADD_score']=data['ADD_score']\n",
    "        new.to_csv('lookupcsv/CrossValid/cross{}/{}_mri.csv'.format(i,j),index=False)"
   ]
  },
  {
   "cell_type": "code",
   "execution_count": 8,
   "id": "7c3bd0ff-4a5b-444f-afde-2c97342e7b81",
   "metadata": {},
   "outputs": [],
   "source": [
    "import pandas as pd\n",
    "for i in range(5):\n",
    "    for j in ['train','valid','test']:\n",
    "        data = pd.read_csv('tb_log/Transformer_CrossValid_cross{}/{}_eval.csv'.format(i,j))\n",
    "        new = pd.read_csv('lookupcsv/CrossValid/cross{}/{}_mri.csv'.format(i,j))\n",
    "        new['trans1']=data.iloc[:,1]\n",
    "        new['trans2']=data.iloc[:,2]\n",
    "        new.to_csv('lookupcsv/CrossValid/cross{}/{}_mri_trans.csv'.format(i,j),index=False)"
   ]
  },
  {
   "cell_type": "code",
   "execution_count": null,
   "id": "815b7b9a-9af3-4d7f-995a-0016b637d95d",
   "metadata": {},
   "outputs": [],
   "source": []
  },
  {
   "cell_type": "code",
   "execution_count": null,
   "id": "0ca0561d-2095-40a8-bdda-13c65a4b04ed",
   "metadata": {},
   "outputs": [],
   "source": []
  }
 ],
 "metadata": {
  "kernelspec": {
   "display_name": "Python 3 (ipykernel)",
   "language": "python",
   "name": "python3"
  },
  "language_info": {
   "codemirror_mode": {
    "name": "ipython",
    "version": 3
   },
   "file_extension": ".py",
   "mimetype": "text/x-python",
   "name": "python",
   "nbconvert_exporter": "python",
   "pygments_lexer": "ipython3",
   "version": "3.8.10"
  }
 },
 "nbformat": 4,
 "nbformat_minor": 5
}
