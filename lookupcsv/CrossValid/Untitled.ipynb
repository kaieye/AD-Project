{
 "cells": [
  {
   "cell_type": "code",
   "execution_count": 22,
   "id": "00b3b1d6-398c-4b5d-9d04-fd164338a7fa",
   "metadata": {},
   "outputs": [],
   "source": [
    "import pandas as pd\n",
    "k=1000\n",
    "\n",
    "data = pd.read_csv(\"GWAS.csv\")\n",
    "features = data.iloc[:, 1:]\n",
    "variances = features.var()\n",
    "top_5000_variances = variances.nlargest(k)\n",
    "selected_features = features[top_5000_variances.index]\n",
    "selected_data = pd.concat([data.iloc[:, 0], selected_features], axis=1)\n",
    "selected_data.to_csv('{}.csv'.format(k), index=False)\n",
    "data_df = pd.read_csv('{}.csv'.format(k))\n",
    "for i in range(5):\n",
    "    train_df = pd.read_csv(\"cross{}/train.csv\".format(i))\n",
    "    test_df = pd.read_csv(\"cross{}/test.csv\".format(i))\n",
    "    valid_df = pd.read_csv(\"cross{}/valid.csv\".format(i))\n",
    "    for df, filename in zip([train_df, test_df, valid_df], [\"train\", \"test\", \"valid\"]):\n",
    "        filenames = df[\"filename\"].tolist()\n",
    "        for j in range(len(filenames)):\n",
    "            filenames[j] = filenames[j][:-4]\n",
    "        subset_df = data_df[data_df[\"index\"].isin(filenames)]\n",
    "        subset_df.to_csv(\"cross{}/GWAS_{}.csv\".format(i,filename), index=False)"
   ]
  },
  {
   "cell_type": "code",
   "execution_count": 23,
   "id": "df8f9dda-b6da-45d4-b4b6-c95a1b7e820c",
   "metadata": {},
   "outputs": [],
   "source": [
    "for i in range(5):\n",
    "    for j in ['train','test','valid']:\n",
    "        train_df = pd.read_csv(\"cross{}/{}.csv\".format(i,j))\n",
    "        subset_df = pd.read_csv(\"cross{}/GWAS_{}.csv\".format(i,j))\n",
    "        train_df = train_df.iloc[:,[1,5]]\n",
    "        dict_map = {}\n",
    "        for m in range(len(train_df)):\n",
    "            train_df.iloc[m,0]=train_df.iloc[m,0][:-4]\n",
    "            dict_map[train_df.iloc[m,0]]=train_df.iloc[m,1]\n",
    "        s=[]\n",
    "        for n in range(len(train_df)):\n",
    "            s.append(dict_map[subset_df.iloc[n,0]])\n",
    "        subset_df['COG']=s\n",
    "        subset_df.to_csv('cross{}/GWAS_{}.csv'.format(i,j),index=False)"
   ]
  },
  {
   "cell_type": "code",
   "execution_count": 34,
   "id": "4fb26aa2-de4a-4e46-ae6d-4b2c6c9122e2",
   "metadata": {},
   "outputs": [],
   "source": [
    "import json\n",
    "def read_json(config_file):\n",
    "    with open(config_file) as config_buffer:\n",
    "        config = json.loads(config_buffer.read())\n",
    "    return config\n",
    "file = read_json('/root/autodl-tmp/ncomms2022-main/config/GWAS.json')\n",
    "\n",
    "subset_df = pd.read_csv(\"cross{}/GWAS_{}.csv\".format(0,'train'))"
   ]
  },
  {
   "cell_type": "code",
   "execution_count": 35,
   "id": "db2e698b-6120-4fe5-8d64-38d13151e8e6",
   "metadata": {},
   "outputs": [
    {
     "data": {
      "text/plain": [
       "True"
      ]
     },
     "execution_count": 35,
     "metadata": {},
     "output_type": "execute_result"
    }
   ],
   "source": [
    "file['features'][0] in subset_df.columns"
   ]
  },
  {
   "cell_type": "code",
   "execution_count": 4,
   "id": "3647601b-032d-463d-917c-4690d0e2cd3b",
   "metadata": {},
   "outputs": [],
   "source": [
    "import pandas as pd\n",
    "for i in range(5):\n",
    "    for j in ['train','valid','test']:\n",
    "        data = pd.read_csv('../../tb_log/CNN_baseline_new_cross{}/{}_eval.csv'.format(i,j))\n",
    "        new = pd.read_csv('cross{}/{}.csv'.format(i,j))\n",
    "        \n",
    "        new['COG_score']=data['COG_score']\n",
    "        if 'ADD_score' in data.columns:\n",
    "            new['ADD_score']=data['ADD_score']\n",
    "        new.to_csv('cross{}/{}_mri.csv'.format(i,j),index=False)"
   ]
  },
  {
   "cell_type": "code",
   "execution_count": null,
   "id": "7d057fe0-139f-4101-9349-66c7619ac30f",
   "metadata": {},
   "outputs": [],
   "source": []
  }
 ],
 "metadata": {
  "kernelspec": {
   "display_name": "Python 3 (ipykernel)",
   "language": "python",
   "name": "python3"
  },
  "language_info": {
   "codemirror_mode": {
    "name": "ipython",
    "version": 3
   },
   "file_extension": ".py",
   "mimetype": "text/x-python",
   "name": "python",
   "nbconvert_exporter": "python",
   "pygments_lexer": "ipython3",
   "version": "3.8.10"
  }
 },
 "nbformat": 4,
 "nbformat_minor": 5
}
